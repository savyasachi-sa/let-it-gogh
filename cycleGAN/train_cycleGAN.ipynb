{
 "cells": [
  {
   "cell_type": "code",
   "execution_count": 1,
   "metadata": {},
   "outputs": [
    {
     "name": "stdout",
     "output_type": "stream",
     "text": [
      "True\n",
      "Training\n",
      "Network initialized with weights sampled from N(0,0.02).\n",
      "Network initialized with weights sampled from N(0,0.02).\n",
      "Network initialized with weights sampled from N(0,0.02).\n",
      "Network initialized with weights sampled from N(0,0.02).\n",
      "------------Number of Parameters---------------\n",
      "[Network Gab] Total number of parameters : 11.378 M\n",
      "[Network Gba] Total number of parameters : 11.378 M\n",
      "[Network Da] Total number of parameters : 2.765 M\n",
      "[Network Db] Total number of parameters : 2.765 M\n",
      "-----------------------------------------------\n",
      " [*] No checkpoint!\n",
      "learning rate = 0.0002000\n",
      "Epoch: (  0) (    1/  525) | Gen Loss:1.97e+01 | Dis Loss:3.65e+00\n",
      "Epoch: (  0) (    2/  525) | Gen Loss:2.37e+01 | Dis Loss:1.49e+01\n",
      "Epoch: (  0) (    3/  525) | Gen Loss:2.19e+01 | Dis Loss:7.98e+00\n",
      "Epoch: (  0) (    4/  525) | Gen Loss:2.17e+01 | Dis Loss:1.09e+01\n",
      "Epoch: (  0) (    5/  525) | Gen Loss:2.06e+01 | Dis Loss:5.32e+00\n",
      "Epoch: (  0) (    6/  525) | Gen Loss:1.82e+01 | Dis Loss:4.12e+00\n",
      "Epoch: (  0) (    7/  525) | Gen Loss:1.91e+01 | Dis Loss:3.20e+00\n",
      "Epoch: (  0) (    8/  525) | Gen Loss:2.20e+01 | Dis Loss:3.05e+00\n",
      "Epoch: (  0) (    9/  525) | Gen Loss:2.29e+01 | Dis Loss:3.10e+00\n",
      "Epoch: (  0) (   10/  525) | Gen Loss:2.23e+01 | Dis Loss:3.62e+00\n",
      "Epoch: (  0) (   11/  525) | Gen Loss:2.25e+01 | Dis Loss:2.27e+00\n",
      "Epoch: (  0) (   12/  525) | Gen Loss:1.83e+01 | Dis Loss:2.61e+00\n",
      "Epoch: (  0) (   13/  525) | Gen Loss:1.77e+01 | Dis Loss:2.27e+00\n",
      "Epoch: (  0) (   14/  525) | Gen Loss:1.95e+01 | Dis Loss:2.13e+00\n",
      "Epoch: (  0) (   15/  525) | Gen Loss:1.85e+01 | Dis Loss:1.94e+00\n",
      "Epoch: (  0) (   16/  525) | Gen Loss:1.58e+01 | Dis Loss:2.32e+00\n",
      "Epoch: (  0) (   17/  525) | Gen Loss:1.78e+01 | Dis Loss:2.09e+00\n",
      "Epoch: (  0) (   18/  525) | Gen Loss:1.66e+01 | Dis Loss:1.98e+00\n",
      "Epoch: (  0) (   19/  525) | Gen Loss:1.41e+01 | Dis Loss:2.20e+00\n",
      "Epoch: (  0) (   20/  525) | Gen Loss:1.41e+01 | Dis Loss:2.12e+00\n",
      "Epoch: (  0) (   21/  525) | Gen Loss:1.48e+01 | Dis Loss:1.67e+00\n",
      "Epoch: (  0) (   22/  525) | Gen Loss:1.51e+01 | Dis Loss:1.70e+00\n",
      "Epoch: (  0) (   23/  525) | Gen Loss:1.35e+01 | Dis Loss:1.57e+00\n",
      "Epoch: (  0) (   24/  525) | Gen Loss:1.42e+01 | Dis Loss:1.65e+00\n",
      "Epoch: (  0) (   25/  525) | Gen Loss:1.32e+01 | Dis Loss:1.51e+00\n",
      "^C\n",
      "Traceback (most recent call last):\n",
      "  File \"main.py\", line 59, in <module>\n",
      "    main()\n",
      "  File \"main.py\", line 52, in main\n",
      "    model.train(args)\n",
      "  File \"/datasets/home/home-02/59/159/r2aggarw/new-repo/let-it-gogh/cycleGAN/train.py\", line 143, in train\n",
      "    self.g_optimizer.step()\n",
      "  File \"/opt/conda/lib/python3.7/site-packages/torch/optim/lr_scheduler.py\", line 51, in wrapper\n",
      "    return wrapped(*args, **kwargs)\n",
      "  File \"/opt/conda/lib/python3.7/site-packages/torch/optim/adam.py\", line 96, in step\n",
      "    exp_avg_sq.mul_(beta2).addcmul_(1 - beta2, grad, grad)\n",
      "KeyboardInterrupt\n"
     ]
    }
   ],
   "source": [
    "! python main.py --training True \\\n",
    "--dataset_dir '/datasets/home/59/159/r2aggarw/pytorch-CycleGAN-and-pix2pix/datasets/cezanne2photo/'\\\n",
    "--checkpoint_dir './checkpoints/cezanne2photo' "
   ]
  },
  {
   "cell_type": "code",
   "execution_count": null,
   "metadata": {},
   "outputs": [],
   "source": []
  }
 ],
 "metadata": {
  "kernelspec": {
   "display_name": "Python 3",
   "language": "python",
   "name": "python3"
  },
  "language_info": {
   "codemirror_mode": {
    "name": "ipython",
    "version": 3
   },
   "file_extension": ".py",
   "mimetype": "text/x-python",
   "name": "python",
   "nbconvert_exporter": "python",
   "pygments_lexer": "ipython3",
   "version": "3.7.3"
  }
 },
 "nbformat": 4,
 "nbformat_minor": 2
}
